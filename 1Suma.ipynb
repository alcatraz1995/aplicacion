{
  "nbformat": 4,
  "nbformat_minor": 0,
  "metadata": {
    "colab": {
      "provenance": [],
      "include_colab_link": true
    },
    "kernelspec": {
      "name": "python3",
      "display_name": "Python 3"
    },
    "language_info": {
      "name": "python"
    }
  },
  "cells": [
    {
      "cell_type": "markdown",
      "metadata": {
        "id": "view-in-github",
        "colab_type": "text"
      },
      "source": [
        "<a href=\"https://colab.research.google.com/github/alcatraz1995/aplicacion/blob/main/1Suma.ipynb\" target=\"_parent\"><img src=\"https://colab.research.google.com/assets/colab-badge.svg\" alt=\"Open In Colab\"/></a>"
      ]
    },
    {
      "cell_type": "markdown",
      "source": [
        "**Aqui vamos a implementar el algoritmo de suma**"
      ],
      "metadata": {
        "id": "tjp8HOv3ndLk"
      }
    },
    {
      "cell_type": "code",
      "execution_count": 1,
      "metadata": {
        "colab": {
          "base_uri": "https://localhost:8080/"
        },
        "id": "alC9XlAKnYPI",
        "outputId": "80638730-f375-4e6e-81f6-a4f39e04ff0d"
      },
      "outputs": [
        {
          "output_type": "stream",
          "name": "stdout",
          "text": [
            "Ingrese el primer número: 15\n",
            "Ingrese el segundo número: 30\n",
            "El resultado de la suma es:  45\n"
          ]
        }
      ],
      "source": [
        "# @title\n",
        "#print(\"Ingrese el primer numero: \")\n",
        "primer_numero = int(input(\"Ingrese el primer número: \")) #'5\n",
        "#print(type(primer_numero))\n",
        "segundo_numero = int(input('Ingrese el segundo número: '))\n",
        "#print(type(segundo_numero))\n",
        "resultado = primer_numero + segundo_numero\n",
        "print(\"El resultado de la suma es: \",resultado)"
      ]
    }
  ]
}